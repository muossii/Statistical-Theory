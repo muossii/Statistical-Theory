{
 "cells": [
  {
   "cell_type": "code",
   "execution_count": 1,
   "id": "6b99afa0-307c-441d-a5aa-9dbaef0503b1",
   "metadata": {
    "tags": []
   },
   "outputs": [],
   "source": [
    "import polars as pl\n",
    "from scipy import stats as st\n",
    "import statistics"
   ]
  },
  {
   "cell_type": "code",
   "execution_count": 2,
   "id": "a1b541f6-427a-43c8-80f9-930b2d391100",
   "metadata": {
    "tags": []
   },
   "outputs": [],
   "source": [
    "data = [88, 45, 53, 86, 33, 86, 85, 30, 89, 53, 41, 96, 56, 38, 62, \n",
    "        71, 51, 86, 68, 29, 28, 47, 33, 37, 25, 36, 33, 94, 73, 46, \n",
    "        42, 34, 79, 72, 88, 99, 82, 62, 57, 42, 28, 55, 67, 62, 60,\n",
    "        96, 61, 57, 75, 93, 34, 75, 53, 32, 28, 73, 51, 69, 91, 35]\n",
    "\n",
    "val = []\n",
    "stats = []"
   ]
  },
  {
   "cell_type": "markdown",
   "id": "f35dea7f-ed62-4423-adf9-866b2cea2931",
   "metadata": {},
   "source": [
    "Get valid, mode, median, mean, st. dev, variance, skewness, std. error of skewness, kurtosis, std. error of kurtosis,\n",
    "minimum, maximum, 25p, 50p, 75p, 90p, 95p"
   ]
  },
  {
   "cell_type": "code",
   "execution_count": 4,
   "id": "5b48dd6f-e84c-42d1-9339-e38225582539",
   "metadata": {
    "tags": []
   },
   "outputs": [],
   "source": [
    "#valid\n",
    "\n",
    "stats.append(\"Valid\")\n",
    "\n",
    "#check if digit/int\n",
    "val_count = 0\n",
    "for num in data:\n",
    "    if str(num).isdigit():\n",
    "        val_count += 1 \n",
    "\n",
    "val.append(val_count)"
   ]
  },
  {
   "cell_type": "code",
   "execution_count": 5,
   "id": "8c586e82-00bc-4798-a1c5-15877618f5e8",
   "metadata": {
    "tags": []
   },
   "outputs": [],
   "source": [
    "# mode\n",
    "\n",
    "stats.append(\"Mode\")\n",
    "\n",
    "val.append(min(statistics.multimode(data)))"
   ]
  },
  {
   "cell_type": "code",
   "execution_count": 6,
   "id": "02f1f383-403d-4507-828a-232c38588958",
   "metadata": {
    "tags": []
   },
   "outputs": [],
   "source": [
    "# median \n",
    "\n",
    "stats.append(\"Median\")\n",
    "val.append(statistics.median(data))"
   ]
  },
  {
   "cell_type": "code",
   "execution_count": 7,
   "id": "a20b2ed8-03b1-4fad-8899-4d3e5a6c4d6c",
   "metadata": {
    "tags": []
   },
   "outputs": [],
   "source": [
    "# mean\n",
    "stats.append(\"mean\")\n",
    "val.append(statistics.mean(data))\n"
   ]
  },
  {
   "cell_type": "code",
   "execution_count": 8,
   "id": "b1a3b4d9-f878-44e1-8a72-200da3fdfb31",
   "metadata": {},
   "outputs": [],
   "source": [
    "# standard deviation\n",
    "\n",
    "stats.append(\"st. dev\")\n",
    "val.append(statistics.stdev(data))\n"
   ]
  },
  {
   "cell_type": "code",
   "execution_count": 9,
   "id": "e7d67bdb-e7d7-4a9f-9c62-7e0588b700b9",
   "metadata": {},
   "outputs": [],
   "source": [
    "# variance\n",
    "\n",
    "stats.append(\"variance\")\n",
    "val.append(statistics.variance(data))"
   ]
  },
  {
   "cell_type": "code",
   "execution_count": 10,
   "id": "290387b7-d2a4-4e26-9714-b4b45cd7a6ed",
   "metadata": {},
   "outputs": [],
   "source": [
    "# skewness\n",
    "\n",
    "stats.append(\"Skewness\")\n",
    "val.append(st.skew(data))"
   ]
  },
  {
   "cell_type": "code",
   "execution_count": 11,
   "id": "66d1fdf2-8cf4-4d73-a532-3c823560f930",
   "metadata": {},
   "outputs": [],
   "source": [
    "# std error skewness\n",
    "\n",
    "stats.append(\"std error of skewness\")\n",
    "val.append( (6/len(data))**(1/2) )"
   ]
  },
  {
   "cell_type": "code",
   "execution_count": 12,
   "id": "455765f2-e670-4840-86c2-c923b67b3380",
   "metadata": {},
   "outputs": [],
   "source": [
    "# kurtosis\n",
    "\n",
    "stats.append(\"kurtosis\")\n",
    "val.append(st.kurtosis(data))"
   ]
  },
  {
   "cell_type": "code",
   "execution_count": 13,
   "id": "488ac295-655f-4bd0-90a4-e859cfba487c",
   "metadata": {},
   "outputs": [],
   "source": [
    "# std error kurtosis\n",
    "\n",
    "stats.append(\"std error of kurtosis\")\n",
    "val.append( (24/len(data))**(1/2) )"
   ]
  },
  {
   "cell_type": "code",
   "execution_count": 14,
   "id": "c8f5a547-0467-4fba-9027-0a89abc29ad5",
   "metadata": {},
   "outputs": [],
   "source": [
    "# minimum\n",
    "\n",
    "stats.append(\"Minimum\")\n",
    "val.append(min(data))"
   ]
  },
  {
   "cell_type": "code",
   "execution_count": 15,
   "id": "7fb30774-e06f-40a8-8d7c-1056a4b017e0",
   "metadata": {},
   "outputs": [],
   "source": [
    "# maximum\n",
    "\n",
    "stats.append(\"Maximum\")\n",
    "val.append(max(data))"
   ]
  },
  {
   "cell_type": "code",
   "execution_count": 16,
   "id": "292f779a-c18e-48ec-8d65-717c3dcae87e",
   "metadata": {
    "tags": []
   },
   "outputs": [],
   "source": [
    "# 25p\n",
    "\n",
    "stats.append(\"25th Percentile\")\n",
    "val.append( st.scoreatpercentile(data,25) )"
   ]
  },
  {
   "cell_type": "code",
   "execution_count": 17,
   "id": "b52f4ad4-fe68-4f28-b4b9-8f661d1e1892",
   "metadata": {},
   "outputs": [],
   "source": [
    "# 50p\n",
    "\n",
    "stats.append(\"50th Percentile\")\n",
    "val.append( st.scoreatpercentile(data,50) )"
   ]
  },
  {
   "cell_type": "code",
   "execution_count": 18,
   "id": "083dfff6-1417-46b4-9d76-d7f5aa851a30",
   "metadata": {},
   "outputs": [],
   "source": [
    "# 75p\n",
    "\n",
    "stats.append(\"75th Percentile\")\n",
    "val.append( st.scoreatpercentile(data,75) )"
   ]
  },
  {
   "cell_type": "code",
   "execution_count": 19,
   "id": "8ef861b4-0786-4d43-9f2f-a294892f80c6",
   "metadata": {},
   "outputs": [],
   "source": [
    "# 90p\n",
    "\n",
    "stats.append(\"90th Percentile\")\n",
    "val.append( st.scoreatpercentile(data,90) )"
   ]
  },
  {
   "cell_type": "code",
   "execution_count": 20,
   "id": "58b96528-ccc4-4df0-aa88-d1fc7f3fcdd5",
   "metadata": {
    "tags": []
   },
   "outputs": [],
   "source": [
    "# 95p\n",
    "\n",
    "stats.append(\"95th Percentile\")\n",
    "val.append( st.scoreatpercentile(data,95) )"
   ]
  },
  {
   "cell_type": "code",
   "execution_count": 21,
   "id": "19e236a8-c116-47e5-9ebd-116cde72797e",
   "metadata": {
    "tags": []
   },
   "outputs": [
    {
     "name": "stdout",
     "output_type": "stream",
     "text": [
      "shape: (17, 2)\n",
      "┌───────────────────────┬────────────┐\n",
      "│ Statistic             ┆ Score      │\n",
      "│ ---                   ┆ ---        │\n",
      "│ str                   ┆ f64        │\n",
      "╞═══════════════════════╪════════════╡\n",
      "│ Valid                 ┆ 60.0       │\n",
      "│ Mode                  ┆ 28.0       │\n",
      "│ Median                ┆ 57.0       │\n",
      "│ mean                  ┆ 59.166667  │\n",
      "│ st. dev               ┆ 22.210981  │\n",
      "│ variance              ┆ 493.327684 │\n",
      "│ Skewness              ┆ 0.162966   │\n",
      "│ std error of skewness ┆ 0.316228   │\n",
      "│ kurtosis              ┆ -1.241208  │\n",
      "│ std error of kurtosis ┆ 0.632456   │\n",
      "│ Minimum               ┆ 25.0       │\n",
      "│ Maximum               ┆ 99.0       │\n",
      "│ 25th Percentile       ┆ 37.75      │\n",
      "│ 50th Percentile       ┆ 57.0       │\n",
      "│ 75th Percentile       ┆ 76.0       │\n",
      "│ 90th Percentile       ┆ 89.2       │\n",
      "│ 95th Percentile       ┆ 94.1       │\n",
      "└───────────────────────┴────────────┘\n"
     ]
    }
   ],
   "source": [
    "table_input = {\"Statistic\" : stats, \"Score\" : val}\n",
    "\n",
    "df = pl.DataFrame(table_input)\n",
    "\n",
    "with pl.Config(tbl_rows=17):\n",
    "\n",
    "    print(df)"
   ]
  }
 ],
 "metadata": {
  "kernelspec": {
   "display_name": "Python 3 (ipykernel)",
   "language": "python",
   "name": "python3"
  },
  "language_info": {
   "codemirror_mode": {
    "name": "ipython",
    "version": 3
   },
   "file_extension": ".py",
   "mimetype": "text/x-python",
   "name": "python",
   "nbconvert_exporter": "python",
   "pygments_lexer": "ipython3",
   "version": "3.11.4"
  }
 },
 "nbformat": 4,
 "nbformat_minor": 5
}
