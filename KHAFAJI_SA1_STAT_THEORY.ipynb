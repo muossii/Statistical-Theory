{
 "cells": [
  {
   "cell_type": "code",
   "execution_count": 1,
   "id": "f6292a3e-8c07-4e3a-8aa4-d5c560ee1a5e",
   "metadata": {},
   "outputs": [
    {
     "name": "stdout",
     "output_type": "stream",
     "text": [
      "[array([12,  4, 11, 13, 11,  7,  9, 10, 10,  7,  7, 12,  6,  9, 15, 10, 11,\n",
      "       12,  7,  8,  8,  9, 11, 10,  9, 10,  9,  9,  7,  9, 11,  7, 10, 10,\n",
      "       11,  9, 12, 12,  8, 13,  9, 10,  8, 11, 10, 13, 13,  9, 10, 13]), array([11,  9,  7, 10,  9, 10, 10,  7,  9, 10, 11,  8,  9,  6, 11, 10,  7,\n",
      "        9, 12, 14, 11, 12, 12,  8, 12, 12,  9, 10, 11,  7, 12,  7,  9,  8,\n",
      "       11, 10,  8, 13,  8, 10,  9,  9,  9, 11,  9,  9,  8,  9, 12, 11])]\n"
     ]
    }
   ],
   "source": [
    "import numpy as np\n",
    "import matplotlib.pyplot as plt\n",
    "import ptitprince as pt\n",
    "import polars as pl\n",
    "from scipy import stats as st\n",
    "import statistics\n",
    "\n",
    "# setting up the data set as arrays\n",
    "# the data is the hours spent talking on cellphones by each respondent\n",
    "\n",
    "males_hours = np.array([12, 4, 11, 13, 11,\n",
    "                        7, 9, 10, 10, 7,\n",
    "                        7, 12, 6, 9, 15,\n",
    "                        10, 11, 12, 7, 8,\n",
    "                        8, 9, 11, 10, 9,\n",
    "                        10, 9, 9, 7, 9,\n",
    "                        11, 7, 10, 10, 11,\n",
    "                        9, 12, 12, 8, 13,\n",
    "                        9, 10, 8, 11, 10,\n",
    "                        13, 13, 9, 10, 13])\n",
    "\n",
    "\n",
    "females_hours = np.array([11, 9, 7, 10, 9,\n",
    "                          10, 10, 7, 9, 10,\n",
    "                          11, 8, 9, 6, 11,\n",
    "                          10, 7, 9, 12, 14,\n",
    "                          11, 12, 12, 8, 12,\n",
    "                          12, 9, 10, 11, 7,\n",
    "                          12, 7, 9, 8, 11,\n",
    "                          10, 8, 13, 8, 10,\n",
    "                          9, 9, 9, 11, 9,\n",
    "                          9, 8, 9, 12, 11])\n",
    "\n",
    "combined_hours = [males_hours, females_hours]\n",
    "\n",
    "genders = [\"males\", \"females\"]\n",
    "\n",
    "print(combined_hours)"
   ]
  },
  {
   "cell_type": "markdown",
   "id": "49274d4a-6067-42cd-8528-481fdb61fbbb",
   "metadata": {},
   "source": [
    "## 1 (10 points)\n",
    "Formulate and present the rationale for a hypothesis test that the researcher could use to compare the mean time spent on cell phones by male and female college students per week.\n"
   ]
  },
  {
   "cell_type": "markdown",
   "id": "43776e5b-4dc8-463c-bbdf-529134853f84",
   "metadata": {},
   "source": [
    "Given two samples, which are not paired, the immediate intuition is to use an independent samples t-test, or another test that compares the means of the two independent groups of samples, if the normality and/or homogeneity of the two groups cannot be assumed.\n",
    "\n",
    "But the end goal is that, we must compare the mean hours spent talking on cellphones by men, and the mean hours spent talking on cellphones by women\n",
    "\n",
    "The null hypothesis would be $H_{0}= \\mu_{males} = \\mu_{females}$\n",
    "\n",
    "while the alternative hypothesis would be $H_{1}= \\mu_{male} \\neq \\mu_{females}$"
   ]
  },
  {
   "cell_type": "markdown",
   "id": "dd77aa30-b9b2-48b8-9a78-2501d228ea31",
   "metadata": {},
   "source": [
    "## 2 (30 points)\n",
    "Analyze the data to provide the hypothesis testing conclusion. What is the p-value for your test? What is your recommendation for the researcher?"
   ]
  },
  {
   "cell_type": "markdown",
   "id": "04ef9e97-b62e-4ea8-b856-73002f2add86",
   "metadata": {},
   "source": [
    "The following are assumptions of an independent samples t-test:\n",
    "\n",
    "1. That the dependent variable, the number of hours per week spent talking on their cell phones, is continuous\n",
    "2. That there are two categorical variables, which is in this case males and females\n",
    "3. That each participant is present in only one group.\n",
    "4. That there are no significant outliers in either groups.\n",
    "5. That each group is normally distributed.\n",
    "6. And that there is an equality of variances between the two groups\n",
    "\n",
    "The first three assumptions are satisfied"
   ]
  },
  {
   "cell_type": "markdown",
   "id": "845373db-8975-4b8d-a35b-f653c156574f",
   "metadata": {},
   "source": [
    "To check for outliers, we'll create a boxplot.\n",
    "We dont need a raincloud, since we'll be looking for outliers only\n",
    "\n",
    "\n"
   ]
  },
  {
   "cell_type": "code",
   "execution_count": 2,
   "id": "fd93b5df-3a73-49a0-8a00-9f5978ecb127",
   "metadata": {},
   "outputs": [
    {
     "data": {
      "image/png": "[encoded data removed]",
      "text/plain": [
       "<Figure size 640x480 with 1 Axes>"
      ]
     },
     "metadata": {},
     "output_type": "display_data"
    }
   ],
   "source": [
    "# for males:\n",
    "\n",
    "fig_male = plt.figure()\n",
    "\n",
    "# Creating plot\n",
    "plt.boxplot(males_hours)\n",
    "\n",
    "plt.ylabel(\"hours spent talking on cellphones\")\n",
    "plt.xlabel(\"Males\")\n",
    "\n",
    "# show plot\n",
    "plt.show()"
   ]
  },
  {
   "cell_type": "markdown",
   "id": "cf023060-54d2-41bb-872a-0e5c1827b09b",
   "metadata": {},
   "source": [
    "There are two outliers for the Male data, but we can check if it's a mild outlier or an extreme outlier:\n",
    "\n",
    "from the plot, we can deduce that the interquartile range (IQR) is 2\n",
    "\n",
    "Subtracting the lowest whisker, which is at 6, by 1.5(IQR), which is 3, gives us 3\n",
    "The minimum value of the data, which is at 4, is greater than $6- 1.5(IQR)=3$, making it a mild outlier\n",
    "\n",
    "Doing the same for the top whisker:\n",
    "The maximum value of the data, 15, is less than $13+1.5(IQR) = 16$, making it a mild outlier\n",
    "\n",
    "Therefore, there are no significant outliers in the data for males."
   ]
  },
  {
   "cell_type": "code",
   "execution_count": 3,
   "id": "6b8aadf9-804f-404e-8d17-1e322e4fa0cc",
   "metadata": {},
   "outputs": [
    {
     "data": {
      "image/png": "[encoded data removed]",
      "text/plain": [
       "<Figure size 640x480 with 1 Axes>"
      ]
     },
     "metadata": {},
     "output_type": "display_data"
    }
   ],
   "source": [
    "# For Females:\n",
    "\n",
    "fig_female = plt.figure()\n",
    "\n",
    "# Creating plot\n",
    "plt.boxplot(females_hours)\n",
    "\n",
    "plt.ylabel(\"hours spent talking on cellphones\")\n",
    "plt.xlabel(\"Females\")\n",
    "\n",
    "# show plot\n",
    "plt.show()"
   ]
  },
  {
   "cell_type": "markdown",
   "id": "be0362d9-4fd5-4f66-a253-ed5189521c10",
   "metadata": {},
   "source": [
    "There are no outliers in the female data\n",
    "\n",
    "Therefore, there are no significant outliers in both groups\n",
    "and assumption 4 is passed"
   ]
  },
  {
   "cell_type": "code",
   "execution_count": 4,
   "id": "d43668f2-9d75-4236-a829-109324b56ca7",
   "metadata": {},
   "outputs": [
    {
     "name": "stdout",
     "output_type": "stream",
     "text": [
      "The shapiro test statistic for hours spent talking on cellphones males is 0.9746539794869001 and its p value is 0.3539889622001455 \n",
      "The shapiro test statistic for hours spent talking on cellphones females is 0.9638767847871548 and its p value is 0.12919719507959687 \n"
     ]
    }
   ],
   "source": [
    "# checking for normality using the shapiro-wilk test:\n",
    "\n",
    "for idx, data in enumerate([males_hours, females_hours]):\n",
    "    test_stat, pval = st.shapiro(data)\n",
    "    print(f\"The shapiro test statistic for hours spent talking on cellphones {genders[idx]} is {test_stat} and its p value is {pval} \")"
   ]
  },
  {
   "cell_type": "markdown",
   "id": "6c5744f7-ae28-4590-9f20-b8f24453c9cc",
   "metadata": {},
   "source": [
    "Both males and females data on hours spent talking on cellphones are normally distributed, as evidenced by a p-value greater than 0.05"
   ]
  },
  {
   "cell_type": "code",
   "execution_count": 5,
   "id": "c39f8ffa-5059-4317-986c-8f9e7eef1897",
   "metadata": {},
   "outputs": [
    {
     "name": "stdout",
     "output_type": "stream",
     "text": [
      "The Levene test statistic for hours spent talking on cellphones is 0.6943460393935098 and its p value is 0.4067163398636344 \n"
     ]
    }
   ],
   "source": [
    "# checking for homogeneity using levene's test:\n",
    "\n",
    "lev_stat, levpval = st.levene(males_hours, females_hours)\n",
    "print(f\"The Levene test statistic for hours spent talking on cellphones is {lev_stat} and its p value is {levpval} \")"
   ]
  },
  {
   "cell_type": "markdown",
   "id": "ec5ff59f-1730-4f1e-b526-7c1634784e9d",
   "metadata": {},
   "source": [
    "The two samples have an equality of variance, as evidenced by a p-value greater than 0.05"
   ]
  },
  {
   "cell_type": "code",
   "execution_count": 6,
   "id": "e82e4bc4-25d0-4dfa-986a-20e366727468",
   "metadata": {},
   "outputs": [
    {
     "name": "stdout",
     "output_type": "stream",
     "text": [
      "The Independent samples t-test test statistic for is 0.30394907866566184 and its p value is 0.7618111039906375 \n"
     ]
    }
   ],
   "source": [
    "# doing independent samples t-test\n",
    "\n",
    "t_stat, tpval = st.ttest_ind(males_hours, females_hours)\n",
    "print(f\"The Independent samples t-test test statistic for is {t_stat} and its p value is {tpval} \")"
   ]
  },
  {
   "cell_type": "markdown",
   "id": "781f73ab-53d1-4e44-9bff-780f85f6635a",
   "metadata": {},
   "source": [
    "# Interpretation\n",
    "As evidenced by a low t-value, and a p-value greater than 0.05, there is no significant difference between the hours spent talking on cellphones between males and females, i.e. we cannot reject the null hypothesis.\n",
    "\n",
    "# Recommendation\n",
    "Investigate aslo if there is a difference between the two groups regarding the mean hours of sleep hours; doing productive work; doing non productive work; and hours doing activities that doesn't involve phones."
   ]
  },
  {
   "cell_type": "markdown",
   "id": "e7fc01fb-7fa9-4619-b94f-bb15b7832dbf",
   "metadata": {},
   "source": [
    "## 3 (10 points)\n",
    "Provide descriptive statistical summaries of the data for each gender category."
   ]
  },
  {
   "cell_type": "code",
   "execution_count": 8,
   "id": "3b7a4c98-1664-49a3-8901-5712eb4c8da8",
   "metadata": {},
   "outputs": [
    {
     "name": "stdout",
     "output_type": "stream",
     "text": [
      "shape: (17, 2)\n",
      "┌───────────────────────┬───────────┐\n",
      "│ Statistic             ┆ Score     │\n",
      "│ ---                   ┆ ---       │\n",
      "│ str                   ┆ f64       │\n",
      "╞═══════════════════════╪═══════════╡\n",
      "│ val_mid               ┆ 50.0      │\n",
      "│ Mode                  ┆ 9.0       │\n",
      "│ Median                ┆ 10.0      │\n",
      "│ mean                  ┆ 9.82      │\n",
      "│ st. dev               ┆ 2.13251   │\n",
      "│ variance              ┆ 4.5476    │\n",
      "│ Skewness              ┆ -0.111207 │\n",
      "│ std error of skewness ┆ 0.34641   │\n",
      "│ kurtosis              ┆ 0.042378  │\n",
      "│ std error of kurtosis ┆ 0.69282   │\n",
      "│ Minimum               ┆ 4.0       │\n",
      "│ Maximum               ┆ 15.0      │\n",
      "│ 25th Percentile       ┆ 9.0       │\n",
      "│ 50th Percentile       ┆ 10.0      │\n",
      "│ 75th Percentile       ┆ 11.0      │\n",
      "│ 90th Percentile       ┆ 13.0      │\n",
      "│ 95th Percentile       ┆ 13.0      │\n",
      "└───────────────────────┴───────────┘\n"
     ]
    }
   ],
   "source": [
    "# Summary for males\n",
    "\n",
    "val_m = []\n",
    "stats_m = []\n",
    "\n",
    "#val_mid\n",
    "stats_m.append(\"val_mid\")\n",
    "\n",
    "#check if digit/int\n",
    "val_count_m = 0\n",
    "for num in males_hours:\n",
    "    if str(num).isdigit():\n",
    "        val_count_m += 1 \n",
    "\n",
    "val_m.append(val_count_m)\n",
    "\n",
    "\n",
    "# mode\n",
    "stats_m.append(\"Mode\")\n",
    "val_m.append(min(st.mode(males_hours)))\n",
    "\n",
    "\n",
    "# median \n",
    "stats_m.append(\"Median\")\n",
    "val_m.append(np.median(males_hours))\n",
    "\n",
    "\n",
    "# mean\n",
    "stats_m.append(\"mean\")\n",
    "val_m.append(np.mean(males_hours))\n",
    "\n",
    "\n",
    "# standard deviation\n",
    "stats_m.append(\"st. dev\")\n",
    "val_m.append(np.std(males_hours))\n",
    "\n",
    "\n",
    "# variance\n",
    "stats_m.append(\"variance\")\n",
    "val_m.append(np.var(males_hours))\n",
    "\n",
    "\n",
    "# skewness\n",
    "stats_m.append(\"Skewness\")\n",
    "val_m.append(st.skew(males_hours))\n",
    "\n",
    "\n",
    "# std error skewness\n",
    "stats_m.append(\"std error of skewness\")\n",
    "val_m.append( (6/len(males_hours))**(1/2) )\n",
    "\n",
    "\n",
    "# kurtosis\n",
    "stats_m.append(\"kurtosis\")\n",
    "val_m.append(st.kurtosis(males_hours))\n",
    "\n",
    "\n",
    "# std error kurtosis\n",
    "stats_m.append(\"std error of kurtosis\")\n",
    "val_m.append( (24/len(males_hours))**(1/2) )\n",
    "\n",
    "\n",
    "# minimum\n",
    "stats_m.append(\"Minimum\")\n",
    "val_m.append(min(males_hours))\n",
    "\n",
    "\n",
    "# maximum\n",
    "stats_m.append(\"Maximum\")\n",
    "val_m.append(max(males_hours))\n",
    "\n",
    "\n",
    "# 25p\n",
    "stats_m.append(\"25th Percentile\")\n",
    "val_m.append( st.scoreatpercentile(males_hours,25) )\n",
    "\n",
    "\n",
    "# 50p\n",
    "stats_m.append(\"50th Percentile\")\n",
    "val_m.append( st.scoreatpercentile(males_hours,50) )\n",
    "\n",
    "\n",
    "# 75p\n",
    "stats_m.append(\"75th Percentile\")\n",
    "val_m.append( st.scoreatpercentile(males_hours,75) )\n",
    "\n",
    "# 90p\n",
    "stats_m.append(\"90th Percentile\")\n",
    "val_m.append( st.scoreatpercentile(males_hours,90) )\n",
    "\n",
    "# 95p\n",
    "stats_m.append(\"95th Percentile\")\n",
    "val_m.append( st.scoreatpercentile(males_hours,95) )\n",
    "\n",
    "\n",
    "table_input_m = {\"Statistic\" : stats_m, \"Score\" : val_m}\n",
    "\n",
    "df_m = pl.DataFrame(table_input_m, strict = False)\n",
    "\n",
    "with pl.Config(tbl_rows=17):\n",
    "\n",
    "    print(df_m)"
   ]
  },
  {
   "cell_type": "code",
   "execution_count": 11,
   "id": "b656440f-b5f1-4f6e-b0a5-4f1f84172938",
   "metadata": {},
   "outputs": [
    {
     "name": "stdout",
     "output_type": "stream",
     "text": [
      "shape: (17, 2)\n",
      "┌───────────────────────┬──────────┐\n",
      "│ Statistic             ┆ Score    │\n",
      "│ ---                   ┆ ---      │\n",
      "│ str                   ┆ f64      │\n",
      "╞═══════════════════════╪══════════╡\n",
      "│ val_mid               ┆ 50.0     │\n",
      "│ Mode                  ┆ 9.0      │\n",
      "│ Median                ┆ 9.5      │\n",
      "│ mean                  ┆ 9.7      │\n",
      "│ st. dev               ┆ 1.75784  │\n",
      "│ variance              ┆ 3.09     │\n",
      "│ Skewness              ┆ 0.130345 │\n",
      "│ std error of skewness ┆ 0.34641  │\n",
      "│ kurtosis              ┆ -0.51648 │\n",
      "│ std error of kurtosis ┆ 0.69282  │\n",
      "│ Minimum               ┆ 6.0      │\n",
      "│ Maximum               ┆ 14.0     │\n",
      "│ 25th Percentile       ┆ 9.0      │\n",
      "│ 50th Percentile       ┆ 9.5      │\n",
      "│ 75th Percentile       ┆ 11.0     │\n",
      "│ 90th Percentile       ┆ 12.0     │\n",
      "│ 95th Percentile       ┆ 12.0     │\n",
      "└───────────────────────┴──────────┘\n"
     ]
    }
   ],
   "source": [
    "# For females\n",
    "\n",
    "val_f = []\n",
    "stats_f = []\n",
    "\n",
    "#val_mid\n",
    "stats_f.append(\"val_mid\")\n",
    "\n",
    "#check if digit/int\n",
    "val_count_f = 0\n",
    "for num in females_hours:\n",
    "    if str(num).isdigit():\n",
    "        val_count_f += 1 \n",
    "\n",
    "val_f.append(val_count_f)\n",
    "\n",
    "\n",
    "# mode\n",
    "stats_f.append(\"Mode\")\n",
    "val_f.append(min(st.mode(females_hours)))\n",
    "\n",
    "\n",
    "# median \n",
    "stats_f.append(\"Median\")\n",
    "val_f.append(np.median(females_hours))\n",
    "\n",
    "\n",
    "# mean\n",
    "stats_f.append(\"mean\")\n",
    "val_f.append(np.mean(females_hours))\n",
    "\n",
    "\n",
    "# standard deviation\n",
    "stats_f.append(\"st. dev\")\n",
    "val_f.append(np.std(females_hours))\n",
    "\n",
    "\n",
    "# variance\n",
    "stats_f.append(\"variance\")\n",
    "val_f.append(np.var(females_hours))\n",
    "\n",
    "\n",
    "# skewness\n",
    "stats_f.append(\"Skewness\")\n",
    "val_f.append(st.skew(females_hours))\n",
    "\n",
    "\n",
    "# std error skewness\n",
    "stats_f.append(\"std error of skewness\")\n",
    "val_f.append( (6/len(females_hours))**(1/2) )\n",
    "\n",
    "\n",
    "# kurtosis\n",
    "stats_f.append(\"kurtosis\")\n",
    "val_f.append(st.kurtosis(females_hours))\n",
    "\n",
    "\n",
    "# std error kurtosis\n",
    "stats_f.append(\"std error of kurtosis\")\n",
    "val_f.append( (24/len(females_hours))**(1/2) )\n",
    "\n",
    "\n",
    "# minimum\n",
    "stats_f.append(\"Minimum\")\n",
    "val_f.append(min(females_hours))\n",
    "\n",
    "\n",
    "# maximum\n",
    "stats_f.append(\"Maximum\")\n",
    "val_f.append(max(females_hours))\n",
    "\n",
    "\n",
    "# 25p\n",
    "stats_f.append(\"25th Percentile\")\n",
    "val_f.append( st.scoreatpercentile(females_hours,25) )\n",
    "\n",
    "\n",
    "# 50p\n",
    "stats_f.append(\"50th Percentile\")\n",
    "val_f.append( st.scoreatpercentile(females_hours,50) )\n",
    "\n",
    "\n",
    "# 75p\n",
    "stats_f.append(\"75th Percentile\")\n",
    "val_f.append( st.scoreatpercentile(females_hours,75) )\n",
    "\n",
    "# 90p\n",
    "stats_f.append(\"90th Percentile\")\n",
    "val_f.append( st.scoreatpercentile(females_hours,90) )\n",
    "\n",
    "# 95p\n",
    "stats_f.append(\"95th Percentile\")\n",
    "val_f.append( st.scoreatpercentile(females_hours,95) )\n",
    "\n",
    "\n",
    "table_input_f = {\"Statistic\" : stats_f, \"Score\" : val_f}\n",
    "\n",
    "df_f = pl.DataFrame(table_input_f, strict=False)\n",
    "\n",
    "with pl.Config(tbl_rows=17):\n",
    "\n",
    "    print(df_f)"
   ]
  },
  {
   "cell_type": "markdown",
   "id": "0badee50-bd77-4e0c-bdac-cf405577d404",
   "metadata": {},
   "source": [
    "## 4 (10 points)\n",
    "\n",
    "What is the 95% confidence interval for the population mean of each gender category, and what is the 95% confidence interval for the difference between the means of the two populations?\n",
    "\n",
    "Since we would be using the 95% confidence interval, $z=|1.96|$\n",
    "\n",
    "The formula for the confidence interval (CI) for the population mean of each group is:\n",
    "\n",
    "$CI = \\mu_{x} \\pm z(\\frac{\\sigma_{x}}{\\sqrt{n}})$\n",
    "\n",
    "where,\n",
    "\n",
    "$\\mu_{x}$ is the sample mean\n",
    "\n",
    "$\\sigma_{x}$ is the sample standard deviation\n",
    "\n",
    "$n$ is the sample size"
   ]
  },
  {
   "cell_type": "code",
   "execution_count": 12,
   "id": "0301dafd-34f8-4f36-a950-2721e6b660e1",
   "metadata": {},
   "outputs": [
    {
     "name": "stdout",
     "output_type": "stream",
     "text": [
      "the minimum of the confidence interval for males is 9.22889831399327, while the maximum is 10.411101686006731\n",
      "the minimum of the confidence interval for females is 9.212751726529483, while the maximum is 10.187248273470516\n"
     ]
    }
   ],
   "source": [
    "z = 1.96\n",
    "\n",
    "# for males\n",
    "m_mean = np.mean(males_hours)\n",
    "m_std = np.std(males_hours)\n",
    "m_n = val_count_m\n",
    "\n",
    "# calculating confidence interval for males:\n",
    "\n",
    "ci_m_minus = m_mean - z*( m_std / (m_n**(1/2) ) )\n",
    "ci_m_plus = m_mean + z*( m_std / (m_n**(1/2) ) )\n",
    "print(f\"the minimum of the confidence interval for males is {ci_m_minus}, while the maximum is {ci_m_plus}\")\n",
    "\n",
    "# for females\n",
    "f_mean = np.mean(females_hours)\n",
    "f_std = np.std(females_hours)\n",
    "f_n = val_count_f\n",
    "\n",
    "# calculating confidence interval for males:\n",
    "\n",
    "ci_f_minus = f_mean - z*( f_std / (f_n**(1/2) ) )\n",
    "ci_f_plus = f_mean + z*( f_std / (f_n**(1/2) ) )\n",
    "print(f\"the minimum of the confidence interval for females is {ci_f_minus}, while the maximum is {ci_f_plus}\")\n"
   ]
  },
  {
   "cell_type": "markdown",
   "id": "165275ad-9eaf-472e-bbe5-82fcba3d5c71",
   "metadata": {},
   "source": [
    "The confidence interval shows that, since there is an overlap between the confidence interval of both groups, there is no significant difference between the two groups.\n",
    "\n",
    "It can also be seen that 95% of the population, or that there is a 95% chance, that the male spends 9.23 to 10.41 hours on the phone,\n",
    "while for females, the numbers are 9.21 to 10.19"
   ]
  },
  {
   "cell_type": "markdown",
   "id": "a4523fce-ecdc-4209-a88b-2d30191e7134",
   "metadata": {},
   "source": [
    "From the definition of the confidence interval of the difference of two means:\n",
    "\n",
    "$CI_{\\mu_{m} - \\mu_{f}} = \\mu_{m} - \\mu_{f} \\pm z( \\sqrt{ \\frac{\\sigma_{m}^{2}}{n_m}-\\frac{\\sigma_{f}^{2}}{n_f} } )$\n",
    "\n",
    "where,\n",
    "\n",
    "$\\mu_{m}$ is the sample mean for the males\n",
    "\n",
    "$\\mu_{f}$ is the sample mean for the females\n",
    "\n",
    "$\\sigma_{m}^{2}$ is the sample variance for the males\n",
    "\n",
    "$\\sigma_{f}^{2}$ is the sample variance for the females\n",
    "\n",
    "$n_{m}$ is the sample size for the males\n",
    "\n",
    "$n_{f}$ is the sample size for the females"
   ]
  },
  {
   "cell_type": "code",
   "execution_count": 16,
   "id": "c81b7906-7f6f-42d6-8323-cbfa0e890e1b",
   "metadata": {},
   "outputs": [
    {
     "name": "stdout",
     "output_type": "stream",
     "text": [
      "the minimum of the confidence interval for the difference between males and females is -0.21464955281607562, while the maximum is 0.4546495528160776\n"
     ]
    }
   ],
   "source": [
    "# solving for confidence interval of two means:\n",
    "\n",
    "m_var = np.var(males_hours)\n",
    "f_var = np.var(females_hours)\n",
    "\n",
    "ci_diff_min = m_mean - f_mean - z*( ( (m_var/m_n) - (f_var/f_n) )**(1/2) )\n",
    "ci_diff_max = m_mean - f_mean + z*( ( (m_var/m_n) - (f_var/f_n) )**(1/2) )\n",
    "print(f\"the minimum of the confidence interval for the difference between males and females is {ci_diff_min}, while the maximum is {ci_diff_max}\")"
   ]
  },
  {
   "cell_type": "markdown",
   "id": "b7da6742-a6c1-4ea1-85e2-d1b5d5090a36",
   "metadata": {},
   "source": [
    "## 5 (20 points)\n",
    "\n",
    "Do you see a need for larger sample sizes and more testing with the time spent on cell phones? Discuss."
   ]
  },
  {
   "cell_type": "markdown",
   "id": "2154a8a5-e01d-4895-a870-60df7f74a506",
   "metadata": {},
   "source": [
    "A larger sample size would probably help, but then the hypothesis test would need to switch to a z-test.\n",
    "\n",
    "A larger sample size would also help us determine if there is at least a small difference, i.e making sure that we are more accurate in rejecting the null hypothesis that there is no difference between the two groups.\n",
    "\n",
    "A more precise data tabulation, counting the minutes as decimals of the hour, would also help in accuracy.\n",
    "\n",
    "Several avenues related to the study should also be considered, such as hours doing other activities when using mobile phones; hours of productive vs unproductive use; and between groups other than gender."
   ]
  },
  {
   "cell_type": "markdown",
   "id": "540f3091-9870-4a24-afc8-a8ee337a7fc6",
   "metadata": {},
   "source": [
    "## 6 (20 points)\n",
    "\n",
    "Make a report including the testing of the assumptions for two independent samples t-test."
   ]
  },
  {
   "cell_type": "markdown",
   "id": "d0afab7d-3bdf-4e6e-be75-4be037217cf2",
   "metadata": {},
   "source": [
    "## Results"
   ]
  },
  {
   "cell_type": "code",
   "execution_count": 21,
   "id": "62cd31fe-a01e-4070-851a-7dbd0af619ef",
   "metadata": {},
   "outputs": [
    {
     "name": "stdout",
     "output_type": "stream",
     "text": [
      "shape: (17, 3)\n",
      "┌───────────────────────┬────────────┬──────────────┐\n",
      "│ Statistic             ┆ Score_male ┆ Score_female │\n",
      "│ ---                   ┆ ---        ┆ ---          │\n",
      "│ str                   ┆ f64        ┆ f64          │\n",
      "╞═══════════════════════╪════════════╪══════════════╡\n",
      "│ val_mid               ┆ 50.0       ┆ 50.0         │\n",
      "│ Mode                  ┆ 9.0        ┆ 9.0          │\n",
      "│ Median                ┆ 10.0       ┆ 9.5          │\n",
      "│ mean                  ┆ 9.82       ┆ 9.7          │\n",
      "│ st. dev               ┆ 2.13251    ┆ 1.75784      │\n",
      "│ variance              ┆ 4.5476     ┆ 3.09         │\n",
      "│ Skewness              ┆ -0.111207  ┆ 0.130345     │\n",
      "│ std error of skewness ┆ 0.34641    ┆ 0.34641      │\n",
      "│ kurtosis              ┆ 0.042378   ┆ -0.51648     │\n",
      "│ std error of kurtosis ┆ 0.69282    ┆ 0.69282      │\n",
      "│ Minimum               ┆ 4.0        ┆ 6.0          │\n",
      "│ Maximum               ┆ 15.0       ┆ 14.0         │\n",
      "│ 25th Percentile       ┆ 9.0        ┆ 9.0          │\n",
      "│ 50th Percentile       ┆ 10.0       ┆ 9.5          │\n",
      "│ 75th Percentile       ┆ 11.0       ┆ 11.0         │\n",
      "│ 90th Percentile       ┆ 13.0       ┆ 12.0         │\n",
      "│ 95th Percentile       ┆ 13.0       ┆ 12.0         │\n",
      "└───────────────────────┴────────────┴──────────────┘\n"
     ]
    }
   ],
   "source": [
    "table_input_com = {\"Statistic\" : stats_f, \"Score_male\" : val_m, \"Score_female\" : val_f}\n",
    "df_com = pl.DataFrame(table_input_com, strict=False)\n",
    "with pl.Config(tbl_rows=17):\n",
    "    \n",
    "    print(df_com)"
   ]
  },
  {
   "cell_type": "code",
   "execution_count": 24,
   "id": "6466868b-724f-4cbf-9e2c-7ed41e17ef7f",
   "metadata": {},
   "outputs": [
    {
     "name": "stdout",
     "output_type": "stream",
     "text": [
      "The Independent samples t-test test statistic for is 0.30394907866566184 and its p value is 0.7618111039906375 \n",
      "\n",
      "the confidence interval for males is between 9.22889831399327 and 10.411101686006731\n",
      "\n",
      "the confidence interval for females is between 9.212751726529483 and 10.187248273470516\n",
      "\n",
      "the confidence interval for the difference between males and females is between -0.21464955281607562 and 0.4546495528160776\n",
      "\n"
     ]
    }
   ],
   "source": [
    "# The t-test result:\n",
    "print(f\"The Independent samples t-test test statistic for is {t_stat} and its p value is {tpval} \", end=\"\\n\\n\")\n",
    "\n",
    "# Confidence Intervals\n",
    "\n",
    "print(f\"the confidence interval for males is between {ci_m_minus} and {ci_m_plus}\", end=\"\\n\\n\")\n",
    "print(f\"the confidence interval for females is between {ci_f_minus} and {ci_f_plus}\", end=\"\\n\\n\")\n",
    "print(f\"the confidence interval for the difference between males and females is between {ci_diff_min} and {ci_diff_max}\", end=\"\\n\\n\")"
   ]
  },
  {
   "cell_type": "code",
   "execution_count": 37,
   "id": "f7dff1d5-6007-40dc-a424-af1c512cfb3e",
   "metadata": {},
   "outputs": [
    {
     "data": {
      "image/png": "[encoded data removed]",
      "text/plain": [
       "<Figure size 1000x500 with 1 Axes>"
      ]
     },
     "metadata": {},
     "output_type": "display_data"
    }
   ],
   "source": [
    "# graph\n",
    "\n",
    "fig = fig = plt.figure(figsize = (10, 5))\n",
    "colors = [\"blue\", \"pink\"]\n",
    "plt.hist(combined_hours, 14, density=True, histtype='bar', color=colors,  label = [\"Males\", \"Females\"])\n",
    "plt.legend()\n",
    "plt.title(\"Hours spent talking on phone \")\n",
    "plt.show()"
   ]
  },
  {
   "cell_type": "markdown",
   "id": "08fb0959-4071-4c64-9b94-0a3d3c1fc36d",
   "metadata": {},
   "source": [
    "## Interpretation"
   ]
  },
  {
   "cell_type": "markdown",
   "id": "757556bf-4f07-4b23-8a76-7d74d6616a6f",
   "metadata": {},
   "source": [
    "As can be seen from the data, the mean of both groups, with the male group having a mean of 9.82, and the female group having a mean of 9.7, is arithmetically close to each other. \n",
    "\n",
    "However, the spread of the female group, with a variance of 3.09, is smaller than the spread of the male group, which has a variance of 4.55.\n",
    "\n",
    "When testing the null hypothesis, we found that the null hypothesis holds, with the independent samples t-test yielding a p-value of 0.76, which is greater than the alpha of 0.05. This, alongside the hugely overlapping confidence intervals, which is further exemplified by the small confidence interval of the difference in means, shows us that there is no significant difference between the two groups in terms of the hours spent on their use of cellphones to communicate."
   ]
  }
 ],
 "metadata": {
  "kernelspec": {
   "display_name": "Python 3 (ipykernel)",
   "language": "python",
   "name": "python3"
  },
  "language_info": {
   "codemirror_mode": {
    "name": "ipython",
    "version": 3
   },
   "file_extension": ".py",
   "mimetype": "text/x-python",
   "name": "python",
   "nbconvert_exporter": "python",
   "pygments_lexer": "ipython3",
   "version": "3.12.3"
  }
 },
 "nbformat": 4,
 "nbformat_minor": 5
}
