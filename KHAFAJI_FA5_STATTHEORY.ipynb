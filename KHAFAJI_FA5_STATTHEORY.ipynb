{
 "cells": [
  {
   "cell_type": "code",
   "execution_count": 1,
   "id": "292947da",
   "metadata": {},
   "outputs": [],
   "source": [
    "import polars as pl\n",
    "from scipy import stats as st\n",
    "import statistics\n",
    "import numpy as np\n",
    "import math \n",
    "import itertools"
   ]
  },
  {
   "cell_type": "markdown",
   "id": "4d298504",
   "metadata": {},
   "source": [
    "1. List all samples of size n = 2 that are possible (with replacement) from the population in Problem\n",
    "8.17. plot the sampling distribution of the mean to show that $ \\mu_{x} = \\mu$ , and show that $\\sigma_{x}^{2} = \\frac{\\sigma^{2}}{2} $."
   ]
  },
  {
   "cell_type": "code",
   "execution_count": 2,
   "id": "f4705477",
   "metadata": {},
   "outputs": [
    {
     "name": "stdout",
     "output_type": "stream",
     "text": [
      "[(9, 9), (9, 12), (9, 15), (12, 9), (12, 12), (12, 15), (15, 9), (15, 12), (15, 15)]\n",
      "\n",
      "[9, 10.5, 12, 10.5, 12, 13.5, 12, 13.5, 15]\n",
      "\n",
      "[9, 10.5, 12, 13.5, 15]\n",
      "\n",
      "[0.1111111111111111, 0.2222222222222222, 0.3333333333333333, 0.2222222222222222, 0.1111111111111111]\n",
      "\n",
      "[1.0, 2.333333333333333, 4.0, 3.0, 1.6666666666666665]\n",
      "12.0 3.0\n"
     ]
    }
   ],
   "source": [
    "pop_817 = [9,12,15]\n",
    "\n",
    "# getting samples of 2\n",
    "samples_2_817 = list(itertools.product(pop_817,pop_817))\n",
    "\n",
    "#getting mean of each sample\n",
    "mean_samples_2_817 = [statistics.mean(sample) for sample in samples_2_817]\n",
    "\n",
    "print(samples_2_817)\n",
    "print()\n",
    "print(mean_samples_2_817)\n",
    "\n",
    "# getting unique means/xbars\n",
    "xbar_817_set = set(mean_samples_2_817) \n",
    "xbar_817 = list(xbar_817_set)\n",
    "\n",
    "print()\n",
    "print(xbar_817)\n",
    "\n",
    "\n",
    "# getting probabilities of xbars\n",
    "pxbar_817 = [mean_samples_2_817.count(xbar)/len(mean_samples_2_817) for xbar in xbar_817]\n",
    "print()\n",
    "print(pxbar_817)\n",
    "\n",
    "# getting x*p(x)\n",
    "xbar_pxabr_817 = [ xbar * probab for xbar, probab in zip(xbar_817,pxbar_817)]\n",
    "\n",
    "print()\n",
    "print(xbar_pxabr_817)\n",
    "\n",
    "# getting mean of sample mean\n",
    "mu_xbar = round(sum(xbar_pxabr_817),1)\n",
    "\n",
    "# getting x^2 ** p(x)\n",
    "xbar_squared_pxbar_817 = [ (xbar**2) * probab for xbar, probab in zip(xbar_817,pxbar_817)]\n",
    "\n",
    "# getting variance of sample mean\n",
    "var_xbar = round(sum(xbar_squared_pxbar_817) - (mu_xbar**2),1)\n",
    "\n",
    "print(mu_xbar, var_xbar )\n",
    "\n"
   ]
  },
  {
   "cell_type": "markdown",
   "id": "b9eeb650",
   "metadata": {},
   "source": [
    "verification"
   ]
  },
  {
   "cell_type": "code",
   "execution_count": 3,
   "id": "d1f38b0d",
   "metadata": {},
   "outputs": [
    {
     "name": "stdout",
     "output_type": "stream",
     "text": [
      "mu xbar is equal to mu\n",
      "\n",
      "var xbar is equal to population variance divided by two\n"
     ]
    }
   ],
   "source": [
    "if mu_xbar == statistics.mean(pop_817):\n",
    "    print(\"mu xbar is equal to mu\")\n",
    "else: print(\"mu xbar is not equal to mu\")\n",
    "    \n",
    "print()\n",
    "\n",
    "if var_xbar == statistics.pvariance(pop_817)/2:\n",
    "    print(\"var xbar is equal to population variance divided by two\")\n",
    "else: print(\"var xbar is not equal to population variance divided by two\")\n"
   ]
  },
  {
   "cell_type": "markdown",
   "id": "ceddcdd6",
   "metadata": {},
   "source": [
    "8.21 \n",
    "\n",
    "A population consists of the four numbers 3, 7, 11, and 15. \n",
    "\n",
    "Consider all possible samples of size 2 that can be drawn with replacement from this population. \n",
    "\n",
    "Find (a) the population mean, \n",
    "(b) the population standard deviation, \n",
    "(c) the mean of the sampling distribution of means, \n",
    "and (d ) the standard deviation of the sampling\n",
    "distribution of means. \n",
    "\n",
    "Verify parts (c) and (d ) directly from (a) and (b) by using suitable formulas."
   ]
  },
  {
   "cell_type": "code",
   "execution_count": 4,
   "id": "77cadd3a",
   "metadata": {},
   "outputs": [
    {
     "name": "stdout",
     "output_type": "stream",
     "text": [
      "Mean of population: 9.0\n",
      "\n",
      "Standard deviation of population: 4.47213595499958\n",
      "\n",
      "Samples of Size 2: [(3, 3), (3, 7), (3, 11), (3, 15), (7, 3), (7, 7), (7, 11), (7, 15), (11, 3), (11, 7), (11, 11), (11, 15), (15, 3), (15, 7), (15, 11), (15, 15)]\n",
      "\n",
      "Mean of each sample: [3, 5, 7, 9, 5, 7, 9, 11, 7, 9, 11, 13, 9, 11, 13, 15]\n",
      "\n",
      "Unique xbars: [3, 5, 7, 9, 11, 13, 15]\n",
      "\n",
      "Probability of each xbar: [0.0625, 0.125, 0.1875, 0.25, 0.1875, 0.125, 0.0625]\n",
      "\n",
      "Xbar times respective probability: [0.1875, 0.625, 1.3125, 2.25, 2.0625, 1.625, 0.9375]\n",
      "\n",
      "mu_xbar is: 9.0\n",
      "\n",
      "sum of Xbar^2 times respective probability is: 91.0\n",
      "\n",
      "standard deviation of sample mean is: 3.1622776601683795\n",
      "\n"
     ]
    }
   ],
   "source": [
    "pop_821 = [3, 7, 11, 15]\n",
    "\n",
    "# A finding population mean \n",
    "mu_pop_821 = np.mean(pop_821)\n",
    "print(\"Mean of population:\",mu_pop_821, end=\"\\n\\n\")\n",
    "\n",
    "# B finding population standard deviation\n",
    "sd_pop_821 = np.std(pop_821)\n",
    "print(\"Standard deviation of population:\", sd_pop_821, end=\"\\n\\n\")\n",
    "\n",
    "# creating samples of size 2\n",
    "samples_2_821 = list(itertools.product(pop_821,pop_821))\n",
    "print(\"Samples of Size 2:\", samples_2_821, end=\"\\n\\n\")\n",
    "\n",
    "# getting mean of each sample\n",
    "mean_samples_2_821 = [statistics.mean(sample) for sample in samples_2_821]\n",
    "print(\"Mean of each sample:\",mean_samples_2_821, end=\"\\n\\n\" )\n",
    "\n",
    "# unique means/xbars\n",
    "xbar_821_set = set(mean_samples_2_821) \n",
    "xbar_821 = list(xbar_821_set)\n",
    "print(\"Unique xbars:\", xbar_821, end=\"\\n\\n\" )\n",
    "\n",
    "# probability of each xbar\n",
    "pxbar_821 = [mean_samples_2_821.count(xbar)/len(mean_samples_2_821) for xbar in xbar_821]\n",
    "print(\"Probability of each xbar:\", pxbar_821, end=\"\\n\\n\")\n",
    "\n",
    "\n",
    "# getting xbar*p(xbar)\n",
    "xbar_pxabr_821 = [ xbar * probab for xbar, probab in zip(xbar_821,pxbar_821)]\n",
    "print(\"Xbar times respective probability:\",xbar_pxabr_821, end=\"\\n\\n\")\n",
    "\n",
    "# C getting mean of sample mean\n",
    "mu_xbar_821 = sum(xbar_pxabr_821)\n",
    "print(\"mu_xbar is:\", mu_xbar_821, end=\"\\n\\n\")\n",
    "\n",
    "\n",
    "# getting x^2 ** p(x)\n",
    "xbar_squared_pxbar_821 = [ (xbar**2) * probab for xbar, probab in zip(xbar_821,pxbar_821)]\n",
    "print(\"sum of Xbar^2 times respective probability is:\", sum(xbar_squared_pxbar_821), end=\"\\n\\n\" )\n",
    "\n",
    "# D getting standard deviation of sample mean\n",
    "var_xbar_821 = sum(xbar_squared_pxbar_821) - (mu_xbar_821**2)\n",
    "sd_xbar_821 = var_xbar_821**(1/2)\n",
    "print(\"standard deviation of sample mean is:\", sd_xbar_821, end=\"\\n\\n\")"
   ]
  },
  {
   "cell_type": "code",
   "execution_count": 5,
   "id": "6fcc2cf8",
   "metadata": {},
   "outputs": [
    {
     "name": "stdout",
     "output_type": "stream",
     "text": [
      "mean of sample mean is equal to population mean\n",
      "Standard deviation of sample mean is validated by population mean\n"
     ]
    }
   ],
   "source": [
    "# verify c with a\n",
    "if mu_xbar_821 == mu_pop_821:\n",
    "    print(\"mean of sample mean is equal to population mean\")\n",
    "else: print(\"mean of sample mean is not equal to population mean\")\n",
    "    \n",
    "    \n",
    "#verify D with B\n",
    "if round(sd_xbar_821, 2) == round(sd_pop_821/(2**(1/2)), 2):\n",
    "    print(\"Standard deviation of sample mean is validated by population mean\")\n",
    "else: print(\"Standard deviation of sample mean is not validated by population mean\")"
   ]
  },
  {
   "cell_type": "markdown",
   "id": "9a54f3e2",
   "metadata": {},
   "source": [
    "8.34\n",
    "\n",
    "Find the probability that of the next 200 children born, \n",
    "(a) less than 40% will be boys, \n",
    "(b) between 43% and 57% will be girls, and \n",
    "(c) more than 54% will be boys. \n",
    "\n",
    "Assume equal probabilities for the births of boys and girls."
   ]
  },
  {
   "cell_type": "code",
   "execution_count": 27,
   "id": "c0a569e8",
   "metadata": {},
   "outputs": [
    {
     "name": "stdout",
     "output_type": "stream",
     "text": [
      "Probability that less than 40% would be boys is: 0.18%\n",
      "Probability that between 43% and 57% would be girls is: 93.36%\n",
      "Probability that more than 54% will be boys is: 11.46%\n"
     ]
    }
   ],
   "source": [
    "# binomial probability distribution\n",
    "\n",
    "n = 200\n",
    "p = 0.5\n",
    "\n",
    "# (A) get cdf of boys to 79\n",
    "prob_a = st.binom.cdf(79, n, p)\n",
    "print(f\"Probability that less than 40% would be boys is: {round(prob_a*100, 2)}%\")\n",
    "\n",
    "# (B) cdf girls 114 - cdf girls 86\n",
    "prob_b = st.binom.cdf(113, n, p) - st.binom.cdf(87, n, p)\n",
    "print(f\"Probability that between 43% and 57% would be girls is: {round(prob_b*100, 2)}%\")\n",
    "\n",
    "# (C) 1 - cdf boys 108\n",
    "prob_c = 1 - st.binom.cdf(108, n, p)\n",
    "print(f\"Probability that more than 54% will be boys is: {round(prob_c*100, 2)}%\")"
   ]
  },
  {
   "cell_type": "markdown",
   "id": "43f7f4e3",
   "metadata": {},
   "source": [
    "8.49 \n",
    "\n",
    "Find $\\mu$ and $\\sigma^{2}$ . Give the 25 (with replacement) possible samples of size 2, their means, and their\n",
    "probabilities."
   ]
  },
  {
   "cell_type": "code",
   "execution_count": 49,
   "id": "226e7800",
   "metadata": {},
   "outputs": [
    {
     "name": "stdout",
     "output_type": "stream",
     "text": [
      "12.000000000000002\n",
      "10.8\n",
      "[1.2, 2.4, 5.3999999999999995, 3.6, 2.4, 2.4, 3.6, 6.6, 4.8, 3.6, 5.3999999999999995, 6.6, 9.6, 7.8, 6.6, 3.6, 4.8, 7.8, 6.0, 4.8, 2.4, 3.6, 6.6, 4.8, 3.6]\n",
      "[0.01, 0.02, 0.04, 0.02, 0.01, 0.02, 0.04, 0.08, 0.04, 0.02, 0.04, 0.08, 0.16, 0.08, 0.04, 0.02, 0.04, 0.08, 0.04, 0.02, 0.01, 0.02, 0.04, 0.02, 0.01]\n"
     ]
    }
   ],
   "source": [
    "x_849 = [6, 9, 12, 15, 18]\n",
    "px_849 = [0.1, 0.2, 0.4, 0.2, 0.1]\n",
    "\n",
    "# getting population mean\n",
    "mu_849 = sum([ val * prob for val, prob in zip(x_849, px_849)])\n",
    "print(mu_849)\n",
    "\n",
    "# getting population variance\n",
    "sigma_squared_849 = sum([ (val**2) * prob for val, prob in zip(x_849, px_849)]) - mu_849**2\n",
    "print(round(sigma_squared_849, 5) )\n",
    "\n",
    "# getting samples of size 2\n",
    "samples_849 = list(itertools.product(x_849,x_849))\n",
    "\n",
    "# getting means\n",
    "mean_samples_849 = []\n",
    "\n",
    "# iterate through list, then through each tuple from list\n",
    "# for x in tuple, get x_849.index(x)\n",
    "# use index to access px_849, i.e. px_849[index] \n",
    "# x * px_849[index]\n",
    "# then sum up\n",
    "# then next iteration\n",
    "\n",
    "for sample in samples_849:\n",
    "    mean = 0\n",
    "    \n",
    "    for val in sample:\n",
    "        ind = x_849.index(val)\n",
    "        mean += round(val*px_849[ind], 5)\n",
    "        \n",
    "    mean_samples_849.append(mean)\n",
    "\n",
    "print(mean_samples_849)\n",
    "\n",
    "# getting probabilities\n",
    "prob_samples_849 = []\n",
    "\n",
    "for sample in samples_849:\n",
    "    #create dummy variable to multiply probabilities with\n",
    "    prob = 1\n",
    "    \n",
    "    # get index for val in original x, and get probability using index\n",
    "    for val in sample:\n",
    "        ind = x_849.index(val)\n",
    "        prob = prob * px_849[ind]\n",
    "    \n",
    "    # add to list\n",
    "    prob_samples_849.append(round(prob, 4) )"
   ]
  },
  {
   "cell_type": "code",
   "execution_count": 51,
   "id": "3df6e4ac",
   "metadata": {},
   "outputs": [
    {
     "name": "stdout",
     "output_type": "stream",
     "text": [
      "shape: (25, 3)\n",
      "┌───────────┬──────┬─────────────┐\n",
      "│ samples   ┆ mean ┆ probability │\n",
      "│ ---       ┆ ---  ┆ ---         │\n",
      "│ list[i64] ┆ f64  ┆ f64         │\n",
      "╞═══════════╪══════╪═════════════╡\n",
      "│ [6, 6]    ┆ 1.2  ┆ 0.01        │\n",
      "│ [6, 9]    ┆ 2.4  ┆ 0.02        │\n",
      "│ [6, 12]   ┆ 5.4  ┆ 0.04        │\n",
      "│ [6, 15]   ┆ 3.6  ┆ 0.02        │\n",
      "│ [6, 18]   ┆ 2.4  ┆ 0.01        │\n",
      "│ [9, 6]    ┆ 2.4  ┆ 0.02        │\n",
      "│ [9, 9]    ┆ 3.6  ┆ 0.04        │\n",
      "│ [9, 12]   ┆ 6.6  ┆ 0.08        │\n",
      "│ [9, 15]   ┆ 4.8  ┆ 0.04        │\n",
      "│ [9, 18]   ┆ 3.6  ┆ 0.02        │\n",
      "│ [12, 6]   ┆ 5.4  ┆ 0.04        │\n",
      "│ [12, 9]   ┆ 6.6  ┆ 0.08        │\n",
      "│ [12, 12]  ┆ 9.6  ┆ 0.16        │\n",
      "│ [12, 15]  ┆ 7.8  ┆ 0.08        │\n",
      "│ [12, 18]  ┆ 6.6  ┆ 0.04        │\n",
      "│ [15, 6]   ┆ 3.6  ┆ 0.02        │\n",
      "│ [15, 9]   ┆ 4.8  ┆ 0.04        │\n",
      "│ [15, 12]  ┆ 7.8  ┆ 0.08        │\n",
      "│ [15, 15]  ┆ 6.0  ┆ 0.04        │\n",
      "│ [15, 18]  ┆ 4.8  ┆ 0.02        │\n",
      "│ [18, 6]   ┆ 2.4  ┆ 0.01        │\n",
      "│ [18, 9]   ┆ 3.6  ┆ 0.02        │\n",
      "│ [18, 12]  ┆ 6.6  ┆ 0.04        │\n",
      "│ [18, 15]  ┆ 4.8  ┆ 0.02        │\n",
      "│ [18, 18]  ┆ 3.6  ┆ 0.01        │\n",
      "└───────────┴──────┴─────────────┘\n"
     ]
    }
   ],
   "source": [
    "# tabulating data\n",
    "\n",
    "data = {\n",
    "    \"samples\" : samples_849,\n",
    "    \"mean\" : mean_samples_849,\n",
    "    \"probability\" : prob_samples_849\n",
    "}\n",
    "\n",
    "df = pl.DataFrame(data)\n",
    "\n",
    "with pl.Config(tbl_rows=25):\n",
    "    print(df)"
   ]
  }
 ],
 "metadata": {
  "kernelspec": {
   "display_name": "Python 3 (ipykernel)",
   "language": "python",
   "name": "python3"
  },
  "language_info": {
   "codemirror_mode": {
    "name": "ipython",
    "version": 3
   },
   "file_extension": ".py",
   "mimetype": "text/x-python",
   "name": "python",
   "nbconvert_exporter": "python",
   "pygments_lexer": "ipython3",
   "version": "3.11.4"
  }
 },
 "nbformat": 4,
 "nbformat_minor": 5
}
