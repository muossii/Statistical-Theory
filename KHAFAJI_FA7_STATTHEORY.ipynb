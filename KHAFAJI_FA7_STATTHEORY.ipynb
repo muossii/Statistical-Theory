{
 "cells": [
  {
   "cell_type": "code",
   "execution_count": 1,
   "id": "5bd73719",
   "metadata": {},
   "outputs": [
    {
     "data": {
      "text/html": [
       "<div>\n",
       "<style scoped>\n",
       "    .dataframe tbody tr th:only-of-type {\n",
       "        vertical-align: middle;\n",
       "    }\n",
       "\n",
       "    .dataframe tbody tr th {\n",
       "        vertical-align: top;\n",
       "    }\n",
       "\n",
       "    .dataframe thead th {\n",
       "        text-align: right;\n",
       "    }\n",
       "</style>\n",
       "<table border=\"1\" class=\"dataframe\">\n",
       "  <thead>\n",
       "    <tr style=\"text-align: right;\">\n",
       "      <th></th>\n",
       "      <th>Participant</th>\n",
       "      <th>Cloak</th>\n",
       "      <th>Mischief</th>\n",
       "    </tr>\n",
       "  </thead>\n",
       "  <tbody>\n",
       "    <tr>\n",
       "      <th>0</th>\n",
       "      <td>1</td>\n",
       "      <td>0</td>\n",
       "      <td>3</td>\n",
       "    </tr>\n",
       "    <tr>\n",
       "      <th>1</th>\n",
       "      <td>2</td>\n",
       "      <td>0</td>\n",
       "      <td>1</td>\n",
       "    </tr>\n",
       "    <tr>\n",
       "      <th>2</th>\n",
       "      <td>3</td>\n",
       "      <td>0</td>\n",
       "      <td>5</td>\n",
       "    </tr>\n",
       "    <tr>\n",
       "      <th>3</th>\n",
       "      <td>4</td>\n",
       "      <td>0</td>\n",
       "      <td>4</td>\n",
       "    </tr>\n",
       "    <tr>\n",
       "      <th>4</th>\n",
       "      <td>5</td>\n",
       "      <td>0</td>\n",
       "      <td>6</td>\n",
       "    </tr>\n",
       "    <tr>\n",
       "      <th>5</th>\n",
       "      <td>6</td>\n",
       "      <td>0</td>\n",
       "      <td>4</td>\n",
       "    </tr>\n",
       "    <tr>\n",
       "      <th>6</th>\n",
       "      <td>7</td>\n",
       "      <td>0</td>\n",
       "      <td>6</td>\n",
       "    </tr>\n",
       "    <tr>\n",
       "      <th>7</th>\n",
       "      <td>8</td>\n",
       "      <td>0</td>\n",
       "      <td>2</td>\n",
       "    </tr>\n",
       "    <tr>\n",
       "      <th>8</th>\n",
       "      <td>9</td>\n",
       "      <td>0</td>\n",
       "      <td>0</td>\n",
       "    </tr>\n",
       "    <tr>\n",
       "      <th>9</th>\n",
       "      <td>10</td>\n",
       "      <td>0</td>\n",
       "      <td>5</td>\n",
       "    </tr>\n",
       "    <tr>\n",
       "      <th>10</th>\n",
       "      <td>11</td>\n",
       "      <td>0</td>\n",
       "      <td>4</td>\n",
       "    </tr>\n",
       "    <tr>\n",
       "      <th>11</th>\n",
       "      <td>12</td>\n",
       "      <td>0</td>\n",
       "      <td>5</td>\n",
       "    </tr>\n",
       "    <tr>\n",
       "      <th>12</th>\n",
       "      <td>13</td>\n",
       "      <td>1</td>\n",
       "      <td>4</td>\n",
       "    </tr>\n",
       "    <tr>\n",
       "      <th>13</th>\n",
       "      <td>14</td>\n",
       "      <td>1</td>\n",
       "      <td>3</td>\n",
       "    </tr>\n",
       "    <tr>\n",
       "      <th>14</th>\n",
       "      <td>15</td>\n",
       "      <td>1</td>\n",
       "      <td>6</td>\n",
       "    </tr>\n",
       "    <tr>\n",
       "      <th>15</th>\n",
       "      <td>16</td>\n",
       "      <td>1</td>\n",
       "      <td>6</td>\n",
       "    </tr>\n",
       "    <tr>\n",
       "      <th>16</th>\n",
       "      <td>17</td>\n",
       "      <td>1</td>\n",
       "      <td>8</td>\n",
       "    </tr>\n",
       "    <tr>\n",
       "      <th>17</th>\n",
       "      <td>18</td>\n",
       "      <td>1</td>\n",
       "      <td>5</td>\n",
       "    </tr>\n",
       "    <tr>\n",
       "      <th>18</th>\n",
       "      <td>19</td>\n",
       "      <td>1</td>\n",
       "      <td>5</td>\n",
       "    </tr>\n",
       "    <tr>\n",
       "      <th>19</th>\n",
       "      <td>20</td>\n",
       "      <td>1</td>\n",
       "      <td>4</td>\n",
       "    </tr>\n",
       "    <tr>\n",
       "      <th>20</th>\n",
       "      <td>21</td>\n",
       "      <td>1</td>\n",
       "      <td>2</td>\n",
       "    </tr>\n",
       "    <tr>\n",
       "      <th>21</th>\n",
       "      <td>22</td>\n",
       "      <td>1</td>\n",
       "      <td>5</td>\n",
       "    </tr>\n",
       "    <tr>\n",
       "      <th>22</th>\n",
       "      <td>23</td>\n",
       "      <td>1</td>\n",
       "      <td>7</td>\n",
       "    </tr>\n",
       "    <tr>\n",
       "      <th>23</th>\n",
       "      <td>24</td>\n",
       "      <td>1</td>\n",
       "      <td>5</td>\n",
       "    </tr>\n",
       "  </tbody>\n",
       "</table>\n",
       "</div>"
      ],
      "text/plain": [
       "    Participant  Cloak  Mischief\n",
       "0             1      0         3\n",
       "1             2      0         1\n",
       "2             3      0         5\n",
       "3             4      0         4\n",
       "4             5      0         6\n",
       "5             6      0         4\n",
       "6             7      0         6\n",
       "7             8      0         2\n",
       "8             9      0         0\n",
       "9            10      0         5\n",
       "10           11      0         4\n",
       "11           12      0         5\n",
       "12           13      1         4\n",
       "13           14      1         3\n",
       "14           15      1         6\n",
       "15           16      1         6\n",
       "16           17      1         8\n",
       "17           18      1         5\n",
       "18           19      1         5\n",
       "19           20      1         4\n",
       "20           21      1         2\n",
       "21           22      1         5\n",
       "22           23      1         7\n",
       "23           24      1         5"
      ]
     },
     "execution_count": 1,
     "metadata": {},
     "output_type": "execute_result"
    }
   ],
   "source": [
    "import pandas as pd\n",
    "\n",
    "# importing dataset as polars dataframe\n",
    "\n",
    "df = pd.read_csv(\"Invisibility Cloak.csv\")\n",
    "\n",
    "df"
   ]
  },
  {
   "cell_type": "markdown",
   "id": "59389383-9efa-4ff1-a313-d8c5cf195ffe",
   "metadata": {},
   "source": [
    "We can see that assumption \n",
    "\n",
    "1: The dependent variable (Mischief) is continuous\n",
    "\n",
    "2: the independent variable (cloak) is categorical, and consists of two independent groups\n",
    "\n",
    "3: Each participant is present to only one group\n",
    "\n",
    "thus the first three assumptions in conducting an independent t-test is met"
   ]
  },
  {
   "cell_type": "markdown",
   "id": "a6d9acd3-8e87-4458-8d1e-54fed56ef088",
   "metadata": {},
   "source": [
    "Creating a rain cloud plot to see outliers:"
   ]
  },
  {
   "cell_type": "code",
   "execution_count": 2,
   "id": "f3a1820e",
   "metadata": {},
   "outputs": [
    {
     "data": {
      "image/png": "[encoded data removed]",
      "text/plain": [
       "<Figure size 640x480 with 1 Axes>"
      ]
     },
     "metadata": {},
     "output_type": "display_data"
    }
   ],
   "source": [
    "import matplotlib.pyplot as plt\n",
    "import numpy as np\n",
    "import ptitprince as pt\n",
    "\n",
    "fig, ax = plt.subplots()\n",
    "\n",
    "# create half violin\n",
    "pt.half_violinplot(x=\"Cloak\", y=\"Mischief\", data=df, inner=None, ax=ax, width=1)\n",
    "\n",
    "# add rainclouds\n",
    "\n",
    "cloaks = [0,1]\n",
    "\n",
    "#enumerate over cloaks\n",
    "\n",
    "for i, cloak in enumerate(cloaks):\n",
    "\n",
    "    data = df[df[\"Cloak\"] == cloak]\n",
    "\n",
    "    # Jitter the values on the vertical axis\n",
    "    x = i + np.random.uniform(high=0.2, size=len(data))\n",
    "    \n",
    "    # Select the values of the horizontal axis\n",
    "    y = data[\"Mischief\"]\n",
    "    \n",
    "    # Add the rain using the scatter method.\n",
    "    ax.scatter(x, y, alpha=0.6)\n",
    "\n",
    "# Generate list of arrays\n",
    "boxplot_data = [\n",
    "    df[df[\"Cloak\"] == cloak][\"Mischief\"].to_numpy()\n",
    "    for cloak in cloaks\n",
    "]\n",
    "\n",
    "# Vertical positions for the boxplots\n",
    "POSITIONS = [0, 1]\n",
    "\n",
    "ax.boxplot(boxplot_data, vert=True, positions=POSITIONS, manage_ticks=False)\n",
    "\n",
    "plt.show()"
   ]
  },
  {
   "cell_type": "markdown",
   "id": "c63ebcfb-7c28-4548-85ee-e04c7f9b748c",
   "metadata": {},
   "source": [
    "No visible outliers, data is visually normally distributed. But to be sure, will test using Shapiro-Wilk test, for each cloak type\n",
    "\n",
    "Note that we will use an alpha of 0.05"
   ]
  },
  {
   "cell_type": "code",
   "execution_count": 3,
   "id": "2416f84e-ed98-4d4a-bec3-e8d8a2b8984b",
   "metadata": {},
   "outputs": [
    {
     "name": "stdout",
     "output_type": "stream",
     "text": [
      "The shapiro test statistic for cloak 0 is 0.9127634937409539 and its p value is 0.2314459072953191 \n",
      "The shapiro test statistic for cloak 1 is 0.9726166907872743 and its p value is 0.9361892037703956 \n"
     ]
    }
   ],
   "source": [
    "from scipy import stats as st\n",
    "\n",
    "# Checking for shapiro wilk statistics:\n",
    "\n",
    "# loop through cloak types:\n",
    "for cloak in cloaks:\n",
    "    data = df[df[\"Cloak\"] == cloak][\"Mischief\"].to_numpy()\n",
    "    test_stat, pval = st.shapiro(data)\n",
    "    print(f\"The shapiro test statistic for cloak {cloak} is {test_stat} and its p value is {pval} \")"
   ]
  },
  {
   "cell_type": "markdown",
   "id": "670d138f-c072-4adc-afb5-e2a4a4458cc7",
   "metadata": {},
   "source": [
    "Both Cloak types are normally distributed (having a p-value greater than alpha)"
   ]
  },
  {
   "cell_type": "markdown",
   "id": "bb9a7daa-a455-449a-ae4d-c4eb827c6202",
   "metadata": {},
   "source": [
    "Now, we will use levene's test for equality of variance, to check the homogeneity of variances"
   ]
  },
  {
   "cell_type": "code",
   "execution_count": 4,
   "id": "7466744b-18a0-4832-820b-b5af5c630250",
   "metadata": {},
   "outputs": [
    {
     "name": "stdout",
     "output_type": "stream",
     "text": [
      "The Levene test statistic for is 0.2697547683923706 and its p value is 0.6086825890641905 \n"
     ]
    }
   ],
   "source": [
    "# using scipy levene function\n",
    "\n",
    "# comparing homogeneity of data when cloak = 0, and of data when cloak = 1\n",
    "lev_stat, levpval = st.levene(df[df[\"Cloak\"] == 0][\"Mischief\"].to_numpy(),  df[df[\"Cloak\"] == 1][\"Mischief\"].to_numpy())\n",
    "print(f\"The Levene test statistic for is {lev_stat} and its p value is {levpval} \")"
   ]
  },
  {
   "cell_type": "markdown",
   "id": "1eb7258c-c47b-48b3-8321-c81f7b27f637",
   "metadata": {},
   "source": [
    "Since the p-value of the Levene's test is greater than 0.05, we can assume that the variance is homogenous across both value sets"
   ]
  },
  {
   "cell_type": "markdown",
   "id": "fda9ff84-9ed6-46a1-a46a-d1c9218b2b25",
   "metadata": {},
   "source": [
    "Since all assumptions are met, we can proceed with the independent samples t-test"
   ]
  },
  {
   "cell_type": "code",
   "execution_count": 5,
   "id": "5f0096cd-d005-445f-a0f9-8fe46049811f",
   "metadata": {},
   "outputs": [
    {
     "name": "stdout",
     "output_type": "stream",
     "text": [
      "The Independent samples t-test test statistic for is -1.713459383965147 and its p value is 0.10068634487481125 \n"
     ]
    }
   ],
   "source": [
    "t_stat, tpval = st.ttest_ind(df[df[\"Cloak\"] == 0][\"Mischief\"].to_numpy(),  df[df[\"Cloak\"] == 1][\"Mischief\"].to_numpy())\n",
    "print(f\"The Independent samples t-test test statistic for is {t_stat} and its p value is {tpval} \")"
   ]
  },
  {
   "cell_type": "markdown",
   "id": "66b4cb5a-c09b-4ca2-a202-aefa22c6ecd1",
   "metadata": {},
   "source": [
    "With a p-value greater than 0.05, the independent samples t-test found that there is no statistically significant difference between the two groups."
   ]
  }
 ],
 "metadata": {
  "kernelspec": {
   "display_name": "Python 3 (ipykernel)",
   "language": "python",
   "name": "python3"
  },
  "language_info": {
   "codemirror_mode": {
    "name": "ipython",
    "version": 3
   },
   "file_extension": ".py",
   "mimetype": "text/x-python",
   "name": "python",
   "nbconvert_exporter": "python",
   "pygments_lexer": "ipython3",
   "version": "3.12.3"
  }
 },
 "nbformat": 4,
 "nbformat_minor": 5
}
